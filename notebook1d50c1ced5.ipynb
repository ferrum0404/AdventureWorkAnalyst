{
  "cells": [
    {
      "cell_type": "markdown",
      "metadata": {
        "id": "view-in-github",
        "colab_type": "text"
      },
      "source": [
        "<a href=\"https://colab.research.google.com/github/ferrum0404/AdventureWorkAnalyst/blob/main/notebook1d50c1ced5.ipynb\" target=\"_parent\"><img src=\"https://colab.research.google.com/assets/colab-badge.svg\" alt=\"Open In Colab\"/></a>"
      ]
    },
    {
      "cell_type": "code",
      "execution_count": null,
      "id": "bcfab497",
      "metadata": {
        "_cell_guid": "b1076dfc-b9ad-4769-8c92-a6c4dae69d19",
        "_uuid": "8f2839f25d086af736a60e9eeb907d3b93b6e0e5",
        "execution": {
          "iopub.execute_input": "2022-08-19T15:42:50.503123Z",
          "iopub.status.busy": "2022-08-19T15:42:50.502373Z",
          "iopub.status.idle": "2022-08-19T15:42:50.522491Z",
          "shell.execute_reply": "2022-08-19T15:42:50.521128Z"
        },
        "papermill": {
          "duration": 0.039127,
          "end_time": "2022-08-19T15:42:50.525342",
          "exception": false,
          "start_time": "2022-08-19T15:42:50.486215",
          "status": "completed"
        },
        "tags": [],
        "id": "bcfab497",
        "outputId": "9350c7d6-65d5-4c02-c911-9d05eca99a89"
      },
      "outputs": [
        {
          "name": "stdout",
          "output_type": "stream",
          "text": [
            "/kaggle/input/microsoft-adventure-works-cycles-customer-data/AWCustomers.csv\n",
            "/kaggle/input/microsoft-adventure-works-cycles-customer-data/AWTest-Classification.csv\n",
            "/kaggle/input/microsoft-adventure-works-cycles-customer-data/AWSales.csv\n",
            "/kaggle/input/microsoft-adventure-works-cycles-customer-data/AWTest-Regression.csv\n"
          ]
        }
      ],
      "source": [
        "import numpy as np\n",
        "import pandas as pd\n",
        "import os\n",
        "for dirname, _, filenames in os.walk('/kaggle/input'):\n",
        "    for filename in filenames:\n",
        "        print(os.path.join(dirname, filename))"
      ]
    },
    {
      "cell_type": "markdown",
      "id": "caf308fc",
      "metadata": {
        "papermill": {
          "duration": 0.012463,
          "end_time": "2022-08-19T15:42:50.551018",
          "exception": false,
          "start_time": "2022-08-19T15:42:50.538555",
          "status": "completed"
        },
        "tags": [],
        "id": "caf308fc"
      },
      "source": [
        "(a) Examine the values of each attribute and Select a set of attributes only that would affect to predict\n",
        "future bike buyers to create your input for data mining algorithms. Remove all the unnecessary\n",
        "attributes. (Select features just by analysis)."
      ]
    },
    {
      "cell_type": "code",
      "execution_count": null,
      "id": "8a72a743",
      "metadata": {
        "execution": {
          "iopub.execute_input": "2022-08-19T15:42:50.580408Z",
          "iopub.status.busy": "2022-08-19T15:42:50.579890Z",
          "iopub.status.idle": "2022-08-19T15:42:51.666764Z",
          "shell.execute_reply": "2022-08-19T15:42:51.665702Z"
        },
        "papermill": {
          "duration": 1.105481,
          "end_time": "2022-08-19T15:42:51.669455",
          "exception": false,
          "start_time": "2022-08-19T15:42:50.563974",
          "status": "completed"
        },
        "tags": [],
        "id": "8a72a743"
      },
      "outputs": [],
      "source": [
        "import matplotlib.pyplot as plt\n",
        "%matplotlib inline\n",
        "import seaborn as sns"
      ]
    },
    {
      "cell_type": "markdown",
      "id": "45c3bf20",
      "metadata": {
        "papermill": {
          "duration": 0.012827,
          "end_time": "2022-08-19T15:42:51.696370",
          "exception": false,
          "start_time": "2022-08-19T15:42:51.683543",
          "status": "completed"
        },
        "tags": [],
        "id": "45c3bf20"
      },
      "source": [
        "The Marketing department of Adventure Works Cycles wants to increase sales by targeting specific\n",
        "customers for a mailing campaign. The company's database contains a list of past customers and a list of\n",
        "potential new customers. By investigating the attributes of previous bike buyers, the company hopes to\n",
        "discover patterns that they can then apply to potential customers. They hope to use the discovered patterns\n",
        "to predict which potential customers are most likely to purchase a bike from Adventure Works Cycles."
      ]
    },
    {
      "cell_type": "code",
      "execution_count": null,
      "id": "9d1ca5dc",
      "metadata": {
        "execution": {
          "iopub.execute_input": "2022-08-19T15:42:51.725641Z",
          "iopub.status.busy": "2022-08-19T15:42:51.724762Z",
          "iopub.status.idle": "2022-08-19T15:42:51.881534Z",
          "shell.execute_reply": "2022-08-19T15:42:51.880585Z"
        },
        "papermill": {
          "duration": 0.174753,
          "end_time": "2022-08-19T15:42:51.884125",
          "exception": false,
          "start_time": "2022-08-19T15:42:51.709372",
          "status": "completed"
        },
        "tags": [],
        "id": "9d1ca5dc"
      },
      "outputs": [],
      "source": [
        "df = pd.read_csv('../input/microsoft-adventure-works-cycles-customer-data/AWCustomers.csv') #Loading the data"
      ]
    },
    {
      "cell_type": "code",
      "execution_count": null,
      "id": "e33610c1",
      "metadata": {
        "execution": {
          "iopub.execute_input": "2022-08-19T15:42:51.912069Z",
          "iopub.status.busy": "2022-08-19T15:42:51.911301Z",
          "iopub.status.idle": "2022-08-19T15:42:51.947394Z",
          "shell.execute_reply": "2022-08-19T15:42:51.946372Z"
        },
        "papermill": {
          "duration": 0.053205,
          "end_time": "2022-08-19T15:42:51.950107",
          "exception": false,
          "start_time": "2022-08-19T15:42:51.896902",
          "status": "completed"
        },
        "tags": [],
        "id": "e33610c1",
        "outputId": "0fc6bb24-edc2-4fb9-9152-ee775b14ebba"
      },
      "outputs": [
        {
          "data": {
            "text/html": [
              "<div>\n",
              "<style scoped>\n",
              "    .dataframe tbody tr th:only-of-type {\n",
              "        vertical-align: middle;\n",
              "    }\n",
              "\n",
              "    .dataframe tbody tr th {\n",
              "        vertical-align: top;\n",
              "    }\n",
              "\n",
              "    .dataframe thead th {\n",
              "        text-align: right;\n",
              "    }\n",
              "</style>\n",
              "<table border=\"1\" class=\"dataframe\">\n",
              "  <thead>\n",
              "    <tr style=\"text-align: right;\">\n",
              "      <th></th>\n",
              "      <th>CustomerID</th>\n",
              "      <th>Title</th>\n",
              "      <th>FirstName</th>\n",
              "      <th>MiddleName</th>\n",
              "      <th>LastName</th>\n",
              "      <th>Suffix</th>\n",
              "      <th>AddressLine1</th>\n",
              "      <th>AddressLine2</th>\n",
              "      <th>City</th>\n",
              "      <th>StateProvinceName</th>\n",
              "      <th>...</th>\n",
              "      <th>Education</th>\n",
              "      <th>Occupation</th>\n",
              "      <th>Gender</th>\n",
              "      <th>MaritalStatus</th>\n",
              "      <th>HomeOwnerFlag</th>\n",
              "      <th>NumberCarsOwned</th>\n",
              "      <th>NumberChildrenAtHome</th>\n",
              "      <th>TotalChildren</th>\n",
              "      <th>YearlyIncome</th>\n",
              "      <th>LastUpdated</th>\n",
              "    </tr>\n",
              "  </thead>\n",
              "  <tbody>\n",
              "    <tr>\n",
              "      <th>0</th>\n",
              "      <td>21173</td>\n",
              "      <td>NaN</td>\n",
              "      <td>Chad</td>\n",
              "      <td>C</td>\n",
              "      <td>Yuan</td>\n",
              "      <td>NaN</td>\n",
              "      <td>7090 C. Mount Hood</td>\n",
              "      <td>NaN</td>\n",
              "      <td>Wollongong</td>\n",
              "      <td>New South Wales</td>\n",
              "      <td>...</td>\n",
              "      <td>Bachelors</td>\n",
              "      <td>Clerical</td>\n",
              "      <td>M</td>\n",
              "      <td>M</td>\n",
              "      <td>1</td>\n",
              "      <td>3</td>\n",
              "      <td>0</td>\n",
              "      <td>1</td>\n",
              "      <td>81916</td>\n",
              "      <td>2017-03-06</td>\n",
              "    </tr>\n",
              "    <tr>\n",
              "      <th>1</th>\n",
              "      <td>13249</td>\n",
              "      <td>NaN</td>\n",
              "      <td>Ryan</td>\n",
              "      <td>NaN</td>\n",
              "      <td>Perry</td>\n",
              "      <td>NaN</td>\n",
              "      <td>3651 Willow Lake Rd</td>\n",
              "      <td>NaN</td>\n",
              "      <td>Shawnee</td>\n",
              "      <td>British Columbia</td>\n",
              "      <td>...</td>\n",
              "      <td>Partial College</td>\n",
              "      <td>Clerical</td>\n",
              "      <td>M</td>\n",
              "      <td>M</td>\n",
              "      <td>1</td>\n",
              "      <td>2</td>\n",
              "      <td>1</td>\n",
              "      <td>2</td>\n",
              "      <td>81076</td>\n",
              "      <td>2017-03-06</td>\n",
              "    </tr>\n",
              "    <tr>\n",
              "      <th>2</th>\n",
              "      <td>29350</td>\n",
              "      <td>NaN</td>\n",
              "      <td>Julia</td>\n",
              "      <td>NaN</td>\n",
              "      <td>Thompson</td>\n",
              "      <td>NaN</td>\n",
              "      <td>1774 Tice Valley Blvd.</td>\n",
              "      <td>NaN</td>\n",
              "      <td>West Covina</td>\n",
              "      <td>California</td>\n",
              "      <td>...</td>\n",
              "      <td>Bachelors</td>\n",
              "      <td>Clerical</td>\n",
              "      <td>F</td>\n",
              "      <td>S</td>\n",
              "      <td>0</td>\n",
              "      <td>3</td>\n",
              "      <td>0</td>\n",
              "      <td>0</td>\n",
              "      <td>86387</td>\n",
              "      <td>2017-03-06</td>\n",
              "    </tr>\n",
              "    <tr>\n",
              "      <th>3</th>\n",
              "      <td>13503</td>\n",
              "      <td>NaN</td>\n",
              "      <td>Theodore</td>\n",
              "      <td>NaN</td>\n",
              "      <td>Gomez</td>\n",
              "      <td>NaN</td>\n",
              "      <td>2103 Baldwin Dr</td>\n",
              "      <td>NaN</td>\n",
              "      <td>Liverpool</td>\n",
              "      <td>England</td>\n",
              "      <td>...</td>\n",
              "      <td>Partial College</td>\n",
              "      <td>Skilled Manual</td>\n",
              "      <td>M</td>\n",
              "      <td>M</td>\n",
              "      <td>1</td>\n",
              "      <td>2</td>\n",
              "      <td>1</td>\n",
              "      <td>2</td>\n",
              "      <td>61481</td>\n",
              "      <td>2017-03-06</td>\n",
              "    </tr>\n",
              "    <tr>\n",
              "      <th>4</th>\n",
              "      <td>22803</td>\n",
              "      <td>NaN</td>\n",
              "      <td>Marshall</td>\n",
              "      <td>J</td>\n",
              "      <td>Shan</td>\n",
              "      <td>NaN</td>\n",
              "      <td>Am Gallberg 234</td>\n",
              "      <td>NaN</td>\n",
              "      <td>Werne</td>\n",
              "      <td>Nordrhein-Westfalen</td>\n",
              "      <td>...</td>\n",
              "      <td>Partial College</td>\n",
              "      <td>Skilled Manual</td>\n",
              "      <td>M</td>\n",
              "      <td>S</td>\n",
              "      <td>1</td>\n",
              "      <td>1</td>\n",
              "      <td>0</td>\n",
              "      <td>0</td>\n",
              "      <td>51804</td>\n",
              "      <td>2017-03-06</td>\n",
              "    </tr>\n",
              "  </tbody>\n",
              "</table>\n",
              "<p>5 rows × 24 columns</p>\n",
              "</div>"
            ],
            "text/plain": [
              "   CustomerID Title FirstName MiddleName  LastName Suffix  \\\n",
              "0       21173   NaN      Chad          C      Yuan    NaN   \n",
              "1       13249   NaN      Ryan        NaN     Perry    NaN   \n",
              "2       29350   NaN     Julia        NaN  Thompson    NaN   \n",
              "3       13503   NaN  Theodore        NaN     Gomez    NaN   \n",
              "4       22803   NaN  Marshall          J      Shan    NaN   \n",
              "\n",
              "             AddressLine1 AddressLine2         City    StateProvinceName  ...  \\\n",
              "0      7090 C. Mount Hood          NaN   Wollongong      New South Wales  ...   \n",
              "1     3651 Willow Lake Rd          NaN      Shawnee     British Columbia  ...   \n",
              "2  1774 Tice Valley Blvd.          NaN  West Covina           California  ...   \n",
              "3         2103 Baldwin Dr          NaN    Liverpool              England  ...   \n",
              "4         Am Gallberg 234          NaN        Werne  Nordrhein-Westfalen  ...   \n",
              "\n",
              "         Education      Occupation Gender MaritalStatus HomeOwnerFlag  \\\n",
              "0        Bachelors        Clerical      M             M             1   \n",
              "1  Partial College        Clerical      M             M             1   \n",
              "2        Bachelors        Clerical      F             S             0   \n",
              "3  Partial College  Skilled Manual      M             M             1   \n",
              "4  Partial College  Skilled Manual      M             S             1   \n",
              "\n",
              "  NumberCarsOwned NumberChildrenAtHome TotalChildren  YearlyIncome  \\\n",
              "0               3                    0             1         81916   \n",
              "1               2                    1             2         81076   \n",
              "2               3                    0             0         86387   \n",
              "3               2                    1             2         61481   \n",
              "4               1                    0             0         51804   \n",
              "\n",
              "   LastUpdated  \n",
              "0   2017-03-06  \n",
              "1   2017-03-06  \n",
              "2   2017-03-06  \n",
              "3   2017-03-06  \n",
              "4   2017-03-06  \n",
              "\n",
              "[5 rows x 24 columns]"
            ]
          },
          "execution_count": 4,
          "metadata": {},
          "output_type": "execute_result"
        }
      ],
      "source": [
        "df.head()"
      ]
    },
    {
      "cell_type": "code",
      "execution_count": null,
      "id": "6f826f7c",
      "metadata": {
        "execution": {
          "iopub.execute_input": "2022-08-19T15:42:51.979428Z",
          "iopub.status.busy": "2022-08-19T15:42:51.978602Z",
          "iopub.status.idle": "2022-08-19T15:42:51.985197Z",
          "shell.execute_reply": "2022-08-19T15:42:51.984009Z"
        },
        "papermill": {
          "duration": 0.023964,
          "end_time": "2022-08-19T15:42:51.987811",
          "exception": false,
          "start_time": "2022-08-19T15:42:51.963847",
          "status": "completed"
        },
        "tags": [],
        "id": "6f826f7c",
        "outputId": "4eeb2034-14d6-4946-a389-1eadecc06d82"
      },
      "outputs": [
        {
          "data": {
            "text/plain": [
              "(18361, 24)"
            ]
          },
          "execution_count": 5,
          "metadata": {},
          "output_type": "execute_result"
        }
      ],
      "source": [
        "df.shape"
      ]
    },
    {
      "cell_type": "code",
      "execution_count": null,
      "id": "0c129ab2",
      "metadata": {
        "execution": {
          "iopub.execute_input": "2022-08-19T15:42:52.017258Z",
          "iopub.status.busy": "2022-08-19T15:42:52.016772Z",
          "iopub.status.idle": "2022-08-19T15:42:52.030351Z",
          "shell.execute_reply": "2022-08-19T15:42:52.029380Z"
        },
        "papermill": {
          "duration": 0.031082,
          "end_time": "2022-08-19T15:42:52.032699",
          "exception": false,
          "start_time": "2022-08-19T15:42:52.001617",
          "status": "completed"
        },
        "tags": [],
        "id": "0c129ab2",
        "outputId": "029c6569-6d87-4fc3-9cb1-9e480409ecc1"
      },
      "outputs": [
        {
          "data": {
            "text/plain": [
              "18355"
            ]
          },
          "execution_count": 6,
          "metadata": {},
          "output_type": "execute_result"
        }
      ],
      "source": [
        "df.CustomerID.nunique() #checking unique values in customer id attribute"
      ]
    },
    {
      "cell_type": "code",
      "execution_count": null,
      "id": "b3917bfb",
      "metadata": {
        "execution": {
          "iopub.execute_input": "2022-08-19T15:42:52.062965Z",
          "iopub.status.busy": "2022-08-19T15:42:52.062211Z",
          "iopub.status.idle": "2022-08-19T15:42:52.070548Z",
          "shell.execute_reply": "2022-08-19T15:42:52.069330Z"
        },
        "papermill": {
          "duration": 0.026727,
          "end_time": "2022-08-19T15:42:52.073121",
          "exception": false,
          "start_time": "2022-08-19T15:42:52.046394",
          "status": "completed"
        },
        "tags": [],
        "id": "b3917bfb",
        "outputId": "1afffa6e-2baa-4a85-ba56-030cc317d4a7"
      },
      "outputs": [
        {
          "data": {
            "text/plain": [
              "18260"
            ]
          },
          "execution_count": 7,
          "metadata": {},
          "output_type": "execute_result"
        }
      ],
      "source": [
        "df.Title.isnull().sum() #checking null values in title attribute"
      ]
    },
    {
      "cell_type": "code",
      "execution_count": null,
      "id": "69102363",
      "metadata": {
        "execution": {
          "iopub.execute_input": "2022-08-19T15:42:52.102916Z",
          "iopub.status.busy": "2022-08-19T15:42:52.102489Z",
          "iopub.status.idle": "2022-08-19T15:42:52.111273Z",
          "shell.execute_reply": "2022-08-19T15:42:52.110239Z"
        },
        "papermill": {
          "duration": 0.026158,
          "end_time": "2022-08-19T15:42:52.113575",
          "exception": false,
          "start_time": "2022-08-19T15:42:52.087417",
          "status": "completed"
        },
        "tags": [],
        "id": "69102363",
        "outputId": "734f66b5-91db-457e-dbfc-3318b6db1c86"
      },
      "outputs": [
        {
          "data": {
            "text/plain": [
              "18358"
            ]
          },
          "execution_count": 8,
          "metadata": {},
          "output_type": "execute_result"
        }
      ],
      "source": [
        "df.Suffix.isnull().sum() #checking null values in title attribute"
      ]
    },
    {
      "cell_type": "code",
      "execution_count": null,
      "id": "c467b7b2",
      "metadata": {
        "execution": {
          "iopub.execute_input": "2022-08-19T15:42:52.143138Z",
          "iopub.status.busy": "2022-08-19T15:42:52.142694Z",
          "iopub.status.idle": "2022-08-19T15:42:52.151868Z",
          "shell.execute_reply": "2022-08-19T15:42:52.150794Z"
        },
        "papermill": {
          "duration": 0.026791,
          "end_time": "2022-08-19T15:42:52.154084",
          "exception": false,
          "start_time": "2022-08-19T15:42:52.127293",
          "status": "completed"
        },
        "tags": [],
        "id": "c467b7b2",
        "outputId": "cd966a50-f64c-4dd5-f788-ca2a60cab2e6"
      },
      "outputs": [
        {
          "data": {
            "text/plain": [
              "2"
            ]
          },
          "execution_count": 9,
          "metadata": {},
          "output_type": "execute_result"
        }
      ],
      "source": [
        "df.LastUpdated.nunique() #checking unique values in lastupdate attribute"
      ]
    },
    {
      "cell_type": "code",
      "execution_count": null,
      "id": "c28d9ab8",
      "metadata": {
        "execution": {
          "iopub.execute_input": "2022-08-19T15:42:52.185112Z",
          "iopub.status.busy": "2022-08-19T15:42:52.184285Z",
          "iopub.status.idle": "2022-08-19T15:42:52.191949Z",
          "shell.execute_reply": "2022-08-19T15:42:52.190727Z"
        },
        "papermill": {
          "duration": 0.026714,
          "end_time": "2022-08-19T15:42:52.194666",
          "exception": false,
          "start_time": "2022-08-19T15:42:52.167952",
          "status": "completed"
        },
        "tags": [],
        "id": "c28d9ab8",
        "outputId": "89ae0b45-7e15-49c3-de37-bb62d7a7f8fe"
      },
      "outputs": [
        {
          "data": {
            "text/plain": [
              "Index(['CustomerID', 'Title', 'FirstName', 'MiddleName', 'LastName', 'Suffix',\n",
              "       'AddressLine1', 'AddressLine2', 'City', 'StateProvinceName',\n",
              "       'CountryRegionName', 'PostalCode', 'PhoneNumber', 'BirthDate',\n",
              "       'Education', 'Occupation', 'Gender', 'MaritalStatus', 'HomeOwnerFlag',\n",
              "       'NumberCarsOwned', 'NumberChildrenAtHome', 'TotalChildren',\n",
              "       'YearlyIncome', 'LastUpdated'],\n",
              "      dtype='object')"
            ]
          },
          "execution_count": 10,
          "metadata": {},
          "output_type": "execute_result"
        }
      ],
      "source": [
        "df.columns #Checking the names of each column"
      ]
    },
    {
      "cell_type": "code",
      "execution_count": null,
      "id": "c2c6d888",
      "metadata": {
        "execution": {
          "iopub.execute_input": "2022-08-19T15:42:52.309675Z",
          "iopub.status.busy": "2022-08-19T15:42:52.309262Z",
          "iopub.status.idle": "2022-08-19T15:42:52.317789Z",
          "shell.execute_reply": "2022-08-19T15:42:52.316452Z"
        },
        "papermill": {
          "duration": 0.025989,
          "end_time": "2022-08-19T15:42:52.320055",
          "exception": false,
          "start_time": "2022-08-19T15:42:52.294066",
          "status": "completed"
        },
        "tags": [],
        "id": "c2c6d888"
      },
      "outputs": [],
      "source": [
        "x = ['CustomerID','Title','MiddleName','Suffix','AddressLine2','PostalCode','AddressLine1','City','PhoneNumber','FirstName','LastName','LastUpdated']\n",
        "df1 = df.drop(x,axis = 1) # loading the data into df2 after dropping all the attributes"
      ]
    },
    {
      "cell_type": "code",
      "execution_count": null,
      "id": "4e3162fe",
      "metadata": {
        "execution": {
          "iopub.execute_input": "2022-08-19T15:42:52.351398Z",
          "iopub.status.busy": "2022-08-19T15:42:52.350577Z",
          "iopub.status.idle": "2022-08-19T15:42:52.368509Z",
          "shell.execute_reply": "2022-08-19T15:42:52.366882Z"
        },
        "papermill": {
          "duration": 0.0365,
          "end_time": "2022-08-19T15:42:52.371471",
          "exception": false,
          "start_time": "2022-08-19T15:42:52.334971",
          "status": "completed"
        },
        "tags": [],
        "id": "4e3162fe",
        "outputId": "65e60e6f-9755-48ee-f7ac-e68eb5f1ba4a"
      },
      "outputs": [
        {
          "data": {
            "text/html": [
              "<div>\n",
              "<style scoped>\n",
              "    .dataframe tbody tr th:only-of-type {\n",
              "        vertical-align: middle;\n",
              "    }\n",
              "\n",
              "    .dataframe tbody tr th {\n",
              "        vertical-align: top;\n",
              "    }\n",
              "\n",
              "    .dataframe thead th {\n",
              "        text-align: right;\n",
              "    }\n",
              "</style>\n",
              "<table border=\"1\" class=\"dataframe\">\n",
              "  <thead>\n",
              "    <tr style=\"text-align: right;\">\n",
              "      <th></th>\n",
              "      <th>StateProvinceName</th>\n",
              "      <th>CountryRegionName</th>\n",
              "      <th>BirthDate</th>\n",
              "      <th>Education</th>\n",
              "      <th>Occupation</th>\n",
              "      <th>Gender</th>\n",
              "      <th>MaritalStatus</th>\n",
              "      <th>HomeOwnerFlag</th>\n",
              "      <th>NumberCarsOwned</th>\n",
              "      <th>NumberChildrenAtHome</th>\n",
              "      <th>TotalChildren</th>\n",
              "      <th>YearlyIncome</th>\n",
              "    </tr>\n",
              "  </thead>\n",
              "  <tbody>\n",
              "    <tr>\n",
              "      <th>0</th>\n",
              "      <td>New South Wales</td>\n",
              "      <td>Australia</td>\n",
              "      <td>1987-11-13</td>\n",
              "      <td>Bachelors</td>\n",
              "      <td>Clerical</td>\n",
              "      <td>M</td>\n",
              "      <td>M</td>\n",
              "      <td>1</td>\n",
              "      <td>3</td>\n",
              "      <td>0</td>\n",
              "      <td>1</td>\n",
              "      <td>81916</td>\n",
              "    </tr>\n",
              "    <tr>\n",
              "      <th>1</th>\n",
              "      <td>British Columbia</td>\n",
              "      <td>Canada</td>\n",
              "      <td>1972-07-21</td>\n",
              "      <td>Partial College</td>\n",
              "      <td>Clerical</td>\n",
              "      <td>M</td>\n",
              "      <td>M</td>\n",
              "      <td>1</td>\n",
              "      <td>2</td>\n",
              "      <td>1</td>\n",
              "      <td>2</td>\n",
              "      <td>81076</td>\n",
              "    </tr>\n",
              "    <tr>\n",
              "      <th>2</th>\n",
              "      <td>California</td>\n",
              "      <td>United States</td>\n",
              "      <td>1985-11-09</td>\n",
              "      <td>Bachelors</td>\n",
              "      <td>Clerical</td>\n",
              "      <td>F</td>\n",
              "      <td>S</td>\n",
              "      <td>0</td>\n",
              "      <td>3</td>\n",
              "      <td>0</td>\n",
              "      <td>0</td>\n",
              "      <td>86387</td>\n",
              "    </tr>\n",
              "    <tr>\n",
              "      <th>3</th>\n",
              "      <td>England</td>\n",
              "      <td>United Kingdom</td>\n",
              "      <td>1977-10-18</td>\n",
              "      <td>Partial College</td>\n",
              "      <td>Skilled Manual</td>\n",
              "      <td>M</td>\n",
              "      <td>M</td>\n",
              "      <td>1</td>\n",
              "      <td>2</td>\n",
              "      <td>1</td>\n",
              "      <td>2</td>\n",
              "      <td>61481</td>\n",
              "    </tr>\n",
              "    <tr>\n",
              "      <th>4</th>\n",
              "      <td>Nordrhein-Westfalen</td>\n",
              "      <td>Germany</td>\n",
              "      <td>1975-02-05</td>\n",
              "      <td>Partial College</td>\n",
              "      <td>Skilled Manual</td>\n",
              "      <td>M</td>\n",
              "      <td>S</td>\n",
              "      <td>1</td>\n",
              "      <td>1</td>\n",
              "      <td>0</td>\n",
              "      <td>0</td>\n",
              "      <td>51804</td>\n",
              "    </tr>\n",
              "  </tbody>\n",
              "</table>\n",
              "</div>"
            ],
            "text/plain": [
              "     StateProvinceName CountryRegionName   BirthDate        Education  \\\n",
              "0      New South Wales         Australia  1987-11-13        Bachelors   \n",
              "1     British Columbia            Canada  1972-07-21  Partial College   \n",
              "2           California     United States  1985-11-09        Bachelors   \n",
              "3              England    United Kingdom  1977-10-18  Partial College   \n",
              "4  Nordrhein-Westfalen           Germany  1975-02-05  Partial College   \n",
              "\n",
              "       Occupation Gender MaritalStatus  HomeOwnerFlag  NumberCarsOwned  \\\n",
              "0        Clerical      M             M              1                3   \n",
              "1        Clerical      M             M              1                2   \n",
              "2        Clerical      F             S              0                3   \n",
              "3  Skilled Manual      M             M              1                2   \n",
              "4  Skilled Manual      M             S              1                1   \n",
              "\n",
              "   NumberChildrenAtHome  TotalChildren  YearlyIncome  \n",
              "0                     0              1         81916  \n",
              "1                     1              2         81076  \n",
              "2                     0              0         86387  \n",
              "3                     1              2         61481  \n",
              "4                     0              0         51804  "
            ]
          },
          "execution_count": 12,
          "metadata": {},
          "output_type": "execute_result"
        }
      ],
      "source": [
        "df1.head()"
      ]
    },
    {
      "cell_type": "code",
      "execution_count": null,
      "id": "53bb7742",
      "metadata": {
        "execution": {
          "iopub.execute_input": "2022-08-19T15:42:52.402081Z",
          "iopub.status.busy": "2022-08-19T15:42:52.401266Z",
          "iopub.status.idle": "2022-08-19T15:42:52.409175Z",
          "shell.execute_reply": "2022-08-19T15:42:52.408251Z"
        },
        "papermill": {
          "duration": 0.025843,
          "end_time": "2022-08-19T15:42:52.411707",
          "exception": false,
          "start_time": "2022-08-19T15:42:52.385864",
          "status": "completed"
        },
        "tags": [],
        "id": "53bb7742",
        "outputId": "bd26876e-f300-4b3e-f402-355fac2bea2a"
      },
      "outputs": [
        {
          "data": {
            "text/plain": [
              "array([3, 2, 1, 0, 4, 5])"
            ]
          },
          "execution_count": 13,
          "metadata": {},
          "output_type": "execute_result"
        }
      ],
      "source": [
        "df.NumberCarsOwned.unique() # checking null values of numbercarsowned attribute"
      ]
    },
    {
      "cell_type": "code",
      "execution_count": null,
      "id": "383b4903",
      "metadata": {
        "execution": {
          "iopub.execute_input": "2022-08-19T15:42:52.442537Z",
          "iopub.status.busy": "2022-08-19T15:42:52.441703Z",
          "iopub.status.idle": "2022-08-19T15:42:52.449690Z",
          "shell.execute_reply": "2022-08-19T15:42:52.448694Z"
        },
        "papermill": {
          "duration": 0.026212,
          "end_time": "2022-08-19T15:42:52.452074",
          "exception": false,
          "start_time": "2022-08-19T15:42:52.425862",
          "status": "completed"
        },
        "tags": [],
        "id": "383b4903",
        "outputId": "806b0bda-b989-494f-d4df-d1c23185b75b"
      },
      "outputs": [
        {
          "data": {
            "text/plain": [
              "array([1, 0])"
            ]
          },
          "execution_count": 14,
          "metadata": {},
          "output_type": "execute_result"
        }
      ],
      "source": [
        "df.HomeOwnerFlag.unique()"
      ]
    },
    {
      "cell_type": "code",
      "execution_count": null,
      "id": "e842a600",
      "metadata": {
        "execution": {
          "iopub.execute_input": "2022-08-19T15:42:52.482675Z",
          "iopub.status.busy": "2022-08-19T15:42:52.481841Z",
          "iopub.status.idle": "2022-08-19T15:42:52.491294Z",
          "shell.execute_reply": "2022-08-19T15:42:52.490240Z"
        },
        "papermill": {
          "duration": 0.027584,
          "end_time": "2022-08-19T15:42:52.493726",
          "exception": false,
          "start_time": "2022-08-19T15:42:52.466142",
          "status": "completed"
        },
        "tags": [],
        "id": "e842a600",
        "outputId": "a7d49ec9-c0cf-499e-9d5b-75bc40b4a840"
      },
      "outputs": [
        {
          "data": {
            "text/plain": [
              "array(['Clerical', 'Skilled Manual', 'Manual', 'Management',\n",
              "       'Professional'], dtype=object)"
            ]
          },
          "execution_count": 15,
          "metadata": {},
          "output_type": "execute_result"
        }
      ],
      "source": [
        "df.Occupation.unique()"
      ]
    },
    {
      "cell_type": "code",
      "execution_count": null,
      "id": "b482c923",
      "metadata": {
        "execution": {
          "iopub.execute_input": "2022-08-19T15:42:52.553290Z",
          "iopub.status.busy": "2022-08-19T15:42:52.552840Z",
          "iopub.status.idle": "2022-08-19T15:42:52.594605Z",
          "shell.execute_reply": "2022-08-19T15:42:52.593103Z"
        },
        "papermill": {
          "duration": 0.060155,
          "end_time": "2022-08-19T15:42:52.597238",
          "exception": false,
          "start_time": "2022-08-19T15:42:52.537083",
          "status": "completed"
        },
        "tags": [],
        "id": "b482c923",
        "outputId": "68c26615-a01f-4734-b7bb-53c816b92aba"
      },
      "outputs": [
        {
          "data": {
            "text/html": [
              "<div>\n",
              "<style scoped>\n",
              "    .dataframe tbody tr th:only-of-type {\n",
              "        vertical-align: middle;\n",
              "    }\n",
              "\n",
              "    .dataframe tbody tr th {\n",
              "        vertical-align: top;\n",
              "    }\n",
              "\n",
              "    .dataframe thead th {\n",
              "        text-align: right;\n",
              "    }\n",
              "</style>\n",
              "<table border=\"1\" class=\"dataframe\">\n",
              "  <thead>\n",
              "    <tr style=\"text-align: right;\">\n",
              "      <th></th>\n",
              "      <th>StateProvinceName</th>\n",
              "      <th>CountryRegionName</th>\n",
              "      <th>BirthDate</th>\n",
              "      <th>Education</th>\n",
              "      <th>Occupation</th>\n",
              "      <th>Gender</th>\n",
              "      <th>MaritalStatus</th>\n",
              "      <th>HomeOwnerFlag</th>\n",
              "      <th>NumberCarsOwned</th>\n",
              "      <th>NumberChildrenAtHome</th>\n",
              "      <th>TotalChildren</th>\n",
              "      <th>YearlyIncome</th>\n",
              "    </tr>\n",
              "  </thead>\n",
              "  <tbody>\n",
              "    <tr>\n",
              "      <th>0</th>\n",
              "      <td>New South Wales</td>\n",
              "      <td>Australia</td>\n",
              "      <td>1987-11-13</td>\n",
              "      <td>Bachelors</td>\n",
              "      <td>Clerical</td>\n",
              "      <td>M</td>\n",
              "      <td>M</td>\n",
              "      <td>1</td>\n",
              "      <td>3</td>\n",
              "      <td>0</td>\n",
              "      <td>1</td>\n",
              "      <td>81916</td>\n",
              "    </tr>\n",
              "    <tr>\n",
              "      <th>1</th>\n",
              "      <td>British Columbia</td>\n",
              "      <td>Canada</td>\n",
              "      <td>1972-07-21</td>\n",
              "      <td>Partial College</td>\n",
              "      <td>Clerical</td>\n",
              "      <td>M</td>\n",
              "      <td>M</td>\n",
              "      <td>1</td>\n",
              "      <td>2</td>\n",
              "      <td>1</td>\n",
              "      <td>2</td>\n",
              "      <td>81076</td>\n",
              "    </tr>\n",
              "    <tr>\n",
              "      <th>2</th>\n",
              "      <td>California</td>\n",
              "      <td>United States</td>\n",
              "      <td>1985-11-09</td>\n",
              "      <td>Bachelors</td>\n",
              "      <td>Clerical</td>\n",
              "      <td>F</td>\n",
              "      <td>S</td>\n",
              "      <td>0</td>\n",
              "      <td>3</td>\n",
              "      <td>0</td>\n",
              "      <td>0</td>\n",
              "      <td>86387</td>\n",
              "    </tr>\n",
              "    <tr>\n",
              "      <th>3</th>\n",
              "      <td>England</td>\n",
              "      <td>United Kingdom</td>\n",
              "      <td>1977-10-18</td>\n",
              "      <td>Partial College</td>\n",
              "      <td>Skilled Manual</td>\n",
              "      <td>M</td>\n",
              "      <td>M</td>\n",
              "      <td>1</td>\n",
              "      <td>2</td>\n",
              "      <td>1</td>\n",
              "      <td>2</td>\n",
              "      <td>61481</td>\n",
              "    </tr>\n",
              "    <tr>\n",
              "      <th>4</th>\n",
              "      <td>Nordrhein-Westfalen</td>\n",
              "      <td>Germany</td>\n",
              "      <td>1975-02-05</td>\n",
              "      <td>Partial College</td>\n",
              "      <td>Skilled Manual</td>\n",
              "      <td>M</td>\n",
              "      <td>S</td>\n",
              "      <td>1</td>\n",
              "      <td>1</td>\n",
              "      <td>0</td>\n",
              "      <td>0</td>\n",
              "      <td>51804</td>\n",
              "    </tr>\n",
              "    <tr>\n",
              "      <th>...</th>\n",
              "      <td>...</td>\n",
              "      <td>...</td>\n",
              "      <td>...</td>\n",
              "      <td>...</td>\n",
              "      <td>...</td>\n",
              "      <td>...</td>\n",
              "      <td>...</td>\n",
              "      <td>...</td>\n",
              "      <td>...</td>\n",
              "      <td>...</td>\n",
              "      <td>...</td>\n",
              "      <td>...</td>\n",
              "    </tr>\n",
              "    <tr>\n",
              "      <th>18356</th>\n",
              "      <td>California</td>\n",
              "      <td>United States</td>\n",
              "      <td>1990-11-11</td>\n",
              "      <td>Graduate Degree</td>\n",
              "      <td>Skilled Manual</td>\n",
              "      <td>F</td>\n",
              "      <td>M</td>\n",
              "      <td>0</td>\n",
              "      <td>1</td>\n",
              "      <td>0</td>\n",
              "      <td>2</td>\n",
              "      <td>52953</td>\n",
              "    </tr>\n",
              "    <tr>\n",
              "      <th>18357</th>\n",
              "      <td>New South Wales</td>\n",
              "      <td>Australia</td>\n",
              "      <td>1992-10-13</td>\n",
              "      <td>Bachelors</td>\n",
              "      <td>Skilled Manual</td>\n",
              "      <td>F</td>\n",
              "      <td>S</td>\n",
              "      <td>0</td>\n",
              "      <td>2</td>\n",
              "      <td>0</td>\n",
              "      <td>0</td>\n",
              "      <td>60992</td>\n",
              "    </tr>\n",
              "    <tr>\n",
              "      <th>18358</th>\n",
              "      <td>Oregon</td>\n",
              "      <td>United States</td>\n",
              "      <td>1983-11-24</td>\n",
              "      <td>Partial College</td>\n",
              "      <td>Skilled Manual</td>\n",
              "      <td>F</td>\n",
              "      <td>S</td>\n",
              "      <td>0</td>\n",
              "      <td>2</td>\n",
              "      <td>0</td>\n",
              "      <td>0</td>\n",
              "      <td>51859</td>\n",
              "    </tr>\n",
              "    <tr>\n",
              "      <th>18359</th>\n",
              "      <td>British Columbia</td>\n",
              "      <td>Canada</td>\n",
              "      <td>1995-06-15</td>\n",
              "      <td>High School</td>\n",
              "      <td>Clerical</td>\n",
              "      <td>F</td>\n",
              "      <td>S</td>\n",
              "      <td>0</td>\n",
              "      <td>0</td>\n",
              "      <td>0</td>\n",
              "      <td>0</td>\n",
              "      <td>87177</td>\n",
              "    </tr>\n",
              "    <tr>\n",
              "      <th>18360</th>\n",
              "      <td>California</td>\n",
              "      <td>United States</td>\n",
              "      <td>1986-03-26</td>\n",
              "      <td>Graduate Degree</td>\n",
              "      <td>Professional</td>\n",
              "      <td>F</td>\n",
              "      <td>M</td>\n",
              "      <td>1</td>\n",
              "      <td>2</td>\n",
              "      <td>0</td>\n",
              "      <td>0</td>\n",
              "      <td>136856</td>\n",
              "    </tr>\n",
              "  </tbody>\n",
              "</table>\n",
              "<p>18357 rows × 12 columns</p>\n",
              "</div>"
            ],
            "text/plain": [
              "         StateProvinceName CountryRegionName   BirthDate        Education  \\\n",
              "0          New South Wales         Australia  1987-11-13        Bachelors   \n",
              "1         British Columbia            Canada  1972-07-21  Partial College   \n",
              "2               California     United States  1985-11-09        Bachelors   \n",
              "3                  England    United Kingdom  1977-10-18  Partial College   \n",
              "4      Nordrhein-Westfalen           Germany  1975-02-05  Partial College   \n",
              "...                    ...               ...         ...              ...   \n",
              "18356           California     United States  1990-11-11  Graduate Degree   \n",
              "18357      New South Wales         Australia  1992-10-13        Bachelors   \n",
              "18358               Oregon     United States  1983-11-24  Partial College   \n",
              "18359     British Columbia            Canada  1995-06-15      High School   \n",
              "18360           California     United States  1986-03-26  Graduate Degree   \n",
              "\n",
              "           Occupation Gender MaritalStatus  HomeOwnerFlag  NumberCarsOwned  \\\n",
              "0            Clerical      M             M              1                3   \n",
              "1            Clerical      M             M              1                2   \n",
              "2            Clerical      F             S              0                3   \n",
              "3      Skilled Manual      M             M              1                2   \n",
              "4      Skilled Manual      M             S              1                1   \n",
              "...               ...    ...           ...            ...              ...   \n",
              "18356  Skilled Manual      F             M              0                1   \n",
              "18357  Skilled Manual      F             S              0                2   \n",
              "18358  Skilled Manual      F             S              0                2   \n",
              "18359        Clerical      F             S              0                0   \n",
              "18360    Professional      F             M              1                2   \n",
              "\n",
              "       NumberChildrenAtHome  TotalChildren  YearlyIncome  \n",
              "0                         0              1         81916  \n",
              "1                         1              2         81076  \n",
              "2                         0              0         86387  \n",
              "3                         1              2         61481  \n",
              "4                         0              0         51804  \n",
              "...                     ...            ...           ...  \n",
              "18356                     0              2         52953  \n",
              "18357                     0              0         60992  \n",
              "18358                     0              0         51859  \n",
              "18359                     0              0         87177  \n",
              "18360                     0              0        136856  \n",
              "\n",
              "[18357 rows x 12 columns]"
            ]
          },
          "execution_count": 16,
          "metadata": {},
          "output_type": "execute_result"
        }
      ],
      "source": [
        "df1.drop_duplicates() # removing the redundant data"
      ]
    },
    {
      "cell_type": "code",
      "execution_count": null,
      "id": "4923e501",
      "metadata": {
        "execution": {
          "iopub.execute_input": "2022-08-19T15:42:52.630060Z",
          "iopub.status.busy": "2022-08-19T15:42:52.628990Z",
          "iopub.status.idle": "2022-08-19T15:42:52.636397Z",
          "shell.execute_reply": "2022-08-19T15:42:52.635425Z"
        },
        "papermill": {
          "duration": 0.026307,
          "end_time": "2022-08-19T15:42:52.638726",
          "exception": false,
          "start_time": "2022-08-19T15:42:52.612419",
          "status": "completed"
        },
        "tags": [],
        "id": "4923e501",
        "outputId": "dadaf6f0-c8f5-4ba7-96de-3b0755a175e9"
      },
      "outputs": [
        {
          "data": {
            "text/plain": [
              "(18361, 12)"
            ]
          },
          "execution_count": 17,
          "metadata": {},
          "output_type": "execute_result"
        }
      ],
      "source": [
        "df1.shape # after removing redundant data"
      ]
    },
    {
      "cell_type": "code",
      "execution_count": null,
      "id": "1a7edf09",
      "metadata": {
        "execution": {
          "iopub.execute_input": "2022-08-19T15:42:52.671251Z",
          "iopub.status.busy": "2022-08-19T15:42:52.670195Z",
          "iopub.status.idle": "2022-08-19T15:42:52.688393Z",
          "shell.execute_reply": "2022-08-19T15:42:52.686931Z"
        },
        "papermill": {
          "duration": 0.037254,
          "end_time": "2022-08-19T15:42:52.690749",
          "exception": false,
          "start_time": "2022-08-19T15:42:52.653495",
          "status": "completed"
        },
        "tags": [],
        "id": "1a7edf09",
        "outputId": "516413ad-bfb7-4183-df4c-9743f7bd7954"
      },
      "outputs": [
        {
          "data": {
            "text/html": [
              "<div>\n",
              "<style scoped>\n",
              "    .dataframe tbody tr th:only-of-type {\n",
              "        vertical-align: middle;\n",
              "    }\n",
              "\n",
              "    .dataframe tbody tr th {\n",
              "        vertical-align: top;\n",
              "    }\n",
              "\n",
              "    .dataframe thead th {\n",
              "        text-align: right;\n",
              "    }\n",
              "</style>\n",
              "<table border=\"1\" class=\"dataframe\">\n",
              "  <thead>\n",
              "    <tr style=\"text-align: right;\">\n",
              "      <th></th>\n",
              "      <th>StateProvinceName</th>\n",
              "      <th>CountryRegionName</th>\n",
              "      <th>BirthDate</th>\n",
              "      <th>Education</th>\n",
              "      <th>Occupation</th>\n",
              "      <th>Gender</th>\n",
              "      <th>MaritalStatus</th>\n",
              "      <th>HomeOwnerFlag</th>\n",
              "      <th>NumberCarsOwned</th>\n",
              "      <th>NumberChildrenAtHome</th>\n",
              "      <th>TotalChildren</th>\n",
              "      <th>YearlyIncome</th>\n",
              "    </tr>\n",
              "  </thead>\n",
              "  <tbody>\n",
              "    <tr>\n",
              "      <th>0</th>\n",
              "      <td>New South Wales</td>\n",
              "      <td>Australia</td>\n",
              "      <td>1987-11-13</td>\n",
              "      <td>Bachelors</td>\n",
              "      <td>Clerical</td>\n",
              "      <td>M</td>\n",
              "      <td>M</td>\n",
              "      <td>1</td>\n",
              "      <td>3</td>\n",
              "      <td>0</td>\n",
              "      <td>1</td>\n",
              "      <td>81916</td>\n",
              "    </tr>\n",
              "    <tr>\n",
              "      <th>1</th>\n",
              "      <td>British Columbia</td>\n",
              "      <td>Canada</td>\n",
              "      <td>1972-07-21</td>\n",
              "      <td>Partial College</td>\n",
              "      <td>Clerical</td>\n",
              "      <td>M</td>\n",
              "      <td>M</td>\n",
              "      <td>1</td>\n",
              "      <td>2</td>\n",
              "      <td>1</td>\n",
              "      <td>2</td>\n",
              "      <td>81076</td>\n",
              "    </tr>\n",
              "    <tr>\n",
              "      <th>2</th>\n",
              "      <td>California</td>\n",
              "      <td>United States</td>\n",
              "      <td>1985-11-09</td>\n",
              "      <td>Bachelors</td>\n",
              "      <td>Clerical</td>\n",
              "      <td>F</td>\n",
              "      <td>S</td>\n",
              "      <td>0</td>\n",
              "      <td>3</td>\n",
              "      <td>0</td>\n",
              "      <td>0</td>\n",
              "      <td>86387</td>\n",
              "    </tr>\n",
              "    <tr>\n",
              "      <th>3</th>\n",
              "      <td>England</td>\n",
              "      <td>United Kingdom</td>\n",
              "      <td>1977-10-18</td>\n",
              "      <td>Partial College</td>\n",
              "      <td>Skilled Manual</td>\n",
              "      <td>M</td>\n",
              "      <td>M</td>\n",
              "      <td>1</td>\n",
              "      <td>2</td>\n",
              "      <td>1</td>\n",
              "      <td>2</td>\n",
              "      <td>61481</td>\n",
              "    </tr>\n",
              "    <tr>\n",
              "      <th>4</th>\n",
              "      <td>Nordrhein-Westfalen</td>\n",
              "      <td>Germany</td>\n",
              "      <td>1975-02-05</td>\n",
              "      <td>Partial College</td>\n",
              "      <td>Skilled Manual</td>\n",
              "      <td>M</td>\n",
              "      <td>S</td>\n",
              "      <td>1</td>\n",
              "      <td>1</td>\n",
              "      <td>0</td>\n",
              "      <td>0</td>\n",
              "      <td>51804</td>\n",
              "    </tr>\n",
              "  </tbody>\n",
              "</table>\n",
              "</div>"
            ],
            "text/plain": [
              "     StateProvinceName CountryRegionName   BirthDate        Education  \\\n",
              "0      New South Wales         Australia  1987-11-13        Bachelors   \n",
              "1     British Columbia            Canada  1972-07-21  Partial College   \n",
              "2           California     United States  1985-11-09        Bachelors   \n",
              "3              England    United Kingdom  1977-10-18  Partial College   \n",
              "4  Nordrhein-Westfalen           Germany  1975-02-05  Partial College   \n",
              "\n",
              "       Occupation Gender MaritalStatus  HomeOwnerFlag  NumberCarsOwned  \\\n",
              "0        Clerical      M             M              1                3   \n",
              "1        Clerical      M             M              1                2   \n",
              "2        Clerical      F             S              0                3   \n",
              "3  Skilled Manual      M             M              1                2   \n",
              "4  Skilled Manual      M             S              1                1   \n",
              "\n",
              "   NumberChildrenAtHome  TotalChildren  YearlyIncome  \n",
              "0                     0              1         81916  \n",
              "1                     1              2         81076  \n",
              "2                     0              0         86387  \n",
              "3                     1              2         61481  \n",
              "4                     0              0         51804  "
            ]
          },
          "execution_count": 18,
          "metadata": {},
          "output_type": "execute_result"
        }
      ],
      "source": [
        "df1.head()"
      ]
    }
  ],
  "metadata": {
    "kernelspec": {
      "display_name": "Python 3",
      "language": "python",
      "name": "python3"
    },
    "language_info": {
      "codemirror_mode": {
        "name": "ipython",
        "version": 3
      },
      "file_extension": ".py",
      "mimetype": "text/x-python",
      "name": "python",
      "nbconvert_exporter": "python",
      "pygments_lexer": "ipython3",
      "version": "3.7.12"
    },
    "papermill": {
      "default_parameters": {},
      "duration": 20.805296,
      "end_time": "2022-08-19T15:43:00.992832",
      "environment_variables": {},
      "exception": null,
      "input_path": "__notebook__.ipynb",
      "output_path": "__notebook__.ipynb",
      "parameters": {},
      "start_time": "2022-08-19T15:42:40.187536",
      "version": "2.3.4"
    },
    "colab": {
      "provenance": [],
      "include_colab_link": true
    }
  },
  "nbformat": 4,
  "nbformat_minor": 5
}